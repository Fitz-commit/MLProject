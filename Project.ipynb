{
 "cells": [
  {
   "cell_type": "code",
   "id": "7b0168cb-9796-4a1a-8ad2-502c842cea52",
   "metadata": {
    "ExecuteTime": {
     "end_time": "2024-11-01T11:35:23.705213Z",
     "start_time": "2024-11-01T11:35:23.702417Z"
    }
   },
   "source": [
    "import os\n",
    "from mlcroissant import Dataset\n",
    "import wfdb\n",
    "import numpy as np\n",
    "from utils import read_event_file_as_list, yml_import, get_question_mapping\n",
    "import logging\n",
    "from tqdm import tqdm\n",
    "import argparse"
   ],
   "outputs": [],
   "execution_count": 20
  },
  {
   "cell_type": "markdown",
   "id": "21b79afb-fdfa-4389-91a3-7cd1d8c3d0f2",
   "metadata": {},
   "source": [
    "# Data Import"
   ]
  },
  {
   "cell_type": "code",
   "id": "378b9e04-4930-4a20-a65a-bf51acaa0302",
   "metadata": {
    "ExecuteTime": {
     "end_time": "2024-11-01T11:35:26.029657Z",
     "start_time": "2024-11-01T11:35:26.026323Z"
    }
   },
   "source": [
    "ANALYSIS_DATA_FILES = [\"Kardio Events.txt\", \"Körperlage.txt\"]\n",
    "#ANALYSIS_DATA_FILES = []\n",
    "\n",
    "YAML_DATA_FILES = ['allgemeiner_schlaffragebogen_1.yml', 'allgemeiner_schlaffragebogen_1_2.yml']\n",
    "#YAML_DATA_FILES = []"
   ],
   "outputs": [],
   "execution_count": 21
  },
  {
   "metadata": {
    "ExecuteTime": {
     "end_time": "2024-11-01T11:35:26.889073Z",
     "start_time": "2024-11-01T11:35:26.883217Z"
    }
   },
   "cell_type": "code",
   "source": [
    "def load_signals(base_path, sample_ids):\n",
    "    psg_files = [os.path.join(base_path, sample_id, 'PSG', sample_id) for sample_id in sample_ids]\n",
    "\n",
    "    signal_data = {}\n",
    "\n",
    "    for psg_file in tqdm(psg_files, desc='Loading signals'):\n",
    "        record = wfdb.rdrecord(psg_file)\n",
    "        signal = np.transpose(record.p_signal)\n",
    "\n",
    "        sort_index = np.argsort(record.sig_name)\n",
    "        sorted_sig_name = np.array(record.sig_name)[sort_index]\n",
    "        sorted_signal = signal[sort_index]\n",
    "\n",
    "        signal_data[record.record_name] = {signal_name: signal_data for signal_name, signal_data in zip(sorted_sig_name, sorted_signal)}\n",
    "\n",
    "    return signal_data\n",
    "\n",
    "def load_analysis_and_yaml_files(base_path, sample_ids, analysis_data_files=ANALYSIS_DATA_FILES, yaml_data_files=YAML_DATA_FILES):\n",
    "\n",
    "    analysis_data = {}\n",
    "    yaml_data = {}\n",
    "    logging.info(f'Loading {len(yaml_data_files)} yaml files and {len(analysis_data_files)} analysis files.')\n",
    "    for sample_id in tqdm(sample_ids, desc='Loading analysis and yaml files'):\n",
    "        analysis_data[sample_id] = {}\n",
    "        yaml_data[sample_id] = {}\n",
    "\n",
    "        for analysis_data_file in analysis_data_files:\n",
    "            path = os.path.join(base_path, sample_id, 'PSG', 'Analysedaten', analysis_data_file)\n",
    "            try:\n",
    "                file_as_list, _, _ = read_event_file_as_list(path)\n",
    "                analysis_data[sample_id][analysis_data_file] = file_as_list\n",
    "            except FileNotFoundError:\n",
    "                print(f\"Warning: File {analysis_data_file} from sample {sample_id} not found. Leaving it empty.\")\n",
    "                analysis_data[sample_id][analysis_data_file] = None\n",
    "\n",
    "        for yaml_data_file in yaml_data_files:\n",
    "            path = os.path.join(base_path, sample_id, 'YAML', yaml_data_file)\n",
    "            try:\n",
    "                data = yml_import(path)\n",
    "                yaml_data[sample_id][yaml_data_file] = data\n",
    "            except FileNotFoundError:\n",
    "                print(f\"Warning: File {yaml_data_file} from sample {sample_id} not found. Leaving it empty.\")\n",
    "                yaml_data[sample_id][yaml_data_file] = None\n",
    "\n",
    "    return analysis_data, yaml_data\n",
    "\n"
   ],
   "id": "8f6ce12945116541",
   "outputs": [],
   "execution_count": 22
  },
  {
   "metadata": {
    "ExecuteTime": {
     "end_time": "2024-11-01T11:37:58.898759Z",
     "start_time": "2024-11-01T11:37:53.109899Z"
    }
   },
   "cell_type": "code",
   "source": [
    "dataset = Dataset(jsonld=\"croissant.json\")\n",
    "\n",
    "base_path = dataset.metadata.url\n",
    "directory = os.getcwd()\n",
    "base_path = os.path.join(directory, base_path)\n",
    "    \n",
    "sample_ids = os.listdir(base_path)\n",
    "analysis_data_files = ANALYSIS_DATA_FILES\n",
    "yaml_data_files = YAML_DATA_FILES\n",
    "\n",
    "signals = load_signals(base_path, sample_ids)\n",
    "logging.info(f'Loaded {len(signals)} signals.')\n",
    "\n",
    "analysis_data, yaml_data = load_analysis_and_yaml_files(base_path, sample_ids, analysis_data_files, yaml_data_files)\n",
    "logging.info(f'Loaded analysis data for {len(analysis_data)} samples.')\n",
    "logging.info(f'Loaded YAML data for {len(yaml_data)} samples.')\n",
    "\n",
    "# Optional: Get the question mapping\n",
    "yaml_data_mapped = get_question_mapping(yaml_data)"
   ],
   "id": "f123e827125b4b63",
   "outputs": [
    {
     "name": "stderr",
     "output_type": "stream",
     "text": [
      "WARNING:absl:Found the following 1 warning(s) during the validation:\n",
      "  -  [Metadata(Comprehensive Polysomnography (CPS) Dataset: A Resource for Sleep-Related Arousal Research)] Property \"https://schema.org/datePublished\" is recommended, but does not exist.\n",
      "Loading signals: 100%|██████████| 1/1 [00:05<00:00,  5.66s/it]\n",
      "INFO:root:Loaded 1 signals.\n",
      "INFO:root:Loading 2 yaml files and 2 analysis files.\n",
      "Loading analysis and yaml files: 100%|██████████| 1/1 [00:00<00:00, 34.48it/s]\n",
      "INFO:root:Loaded analysis data for 1 samples.\n",
      "INFO:root:Loaded YAML data for 1 samples.\n"
     ]
    }
   ],
   "execution_count": 24
  },
  {
   "cell_type": "markdown",
   "id": "9b45fa15-624b-4faf-9241-837ef753003e",
   "metadata": {},
   "source": [
    "# Data Understanding"
   ]
  },
  {
   "cell_type": "code",
   "execution_count": null,
   "id": "b7e09cee-5f74-464a-94ae-f61371a6c368",
   "metadata": {},
   "outputs": [],
   "source": []
  }
 ],
 "metadata": {
  "kernelspec": {
   "display_name": "Python 3 (ipykernel)",
   "language": "python",
   "name": "python3"
  },
  "language_info": {
   "codemirror_mode": {
    "name": "ipython",
    "version": 3
   },
   "file_extension": ".py",
   "mimetype": "text/x-python",
   "name": "python",
   "nbconvert_exporter": "python",
   "pygments_lexer": "ipython3",
   "version": "3.11.0"
  }
 },
 "nbformat": 4,
 "nbformat_minor": 5
}
