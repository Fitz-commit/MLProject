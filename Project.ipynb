{
 "cells": [
  {
   "cell_type": "code",
   "id": "7b0168cb-9796-4a1a-8ad2-502c842cea52",
   "metadata": {
    "ExecuteTime": {
     "end_time": "2024-12-19T23:55:24.304268Z",
     "start_time": "2024-12-19T23:55:24.294218Z"
    }
   },
   "source": [
    "import os\n",
    "from mlcroissant import Dataset\n",
    "import wfdb\n",
    "\n",
    "from utils import read_event_file_as_list, yml_import, get_question_mapping\n",
    "import logging\n",
    "from tqdm import tqdm\n",
    "\n",
    "import numpy as np\n",
    "import pandas as pd\n",
    "import matplotlib.pyplot as plt\n",
    "\n",
    "from sklearn.model_selection import train_test_split\n",
    "from sklearn.tree import DecisionTreeClassifier\n",
    "from sklearn.metrics import confusion_matrix, ConfusionMatrixDisplay, accuracy_score, classification_report\n",
    "from sklearn.preprocessing import MinMaxScaler\n",
    "\n",
    "from sklearn import metrics\n",
    "from sktime.classification.feature_based import Catch22Classifier\n",
    "from sktime.datasets import load_basic_motions, load_italy_power_demand\n",
    "from sktime.transformations.panel.catch22 import Catch22\n"
   ],
   "outputs": [],
   "execution_count": 25
  },
  {
   "cell_type": "markdown",
   "id": "21b79afb-fdfa-4389-91a3-7cd1d8c3d0f2",
   "metadata": {},
   "source": [
    "# Data Import"
   ]
  },
  {
   "cell_type": "code",
   "id": "378b9e04-4930-4a20-a65a-bf51acaa0302",
   "metadata": {
    "ExecuteTime": {
     "end_time": "2024-12-19T23:55:24.340076Z",
     "start_time": "2024-12-19T23:55:24.336545Z"
    }
   },
   "source": [
    "#ANALYSIS_DATA_FILES = [\"Kardio Events.txt\", \"Körperlage.txt\"]\n",
    "ANALYSIS_DATA_FILES = [\"Schlafprofil.txt\"]\n",
    "\n",
    "#YAML_DATA_FILES = ['allgemeiner_schlaffragebogen_1.yml', 'allgemeiner_schlaffragebogen_1_2.yml']\n",
    "YAML_DATA_FILES = []"
   ],
   "outputs": [],
   "execution_count": 26
  },
  {
   "metadata": {
    "ExecuteTime": {
     "end_time": "2024-12-19T23:55:24.361253Z",
     "start_time": "2024-12-19T23:55:24.353478Z"
    }
   },
   "cell_type": "code",
   "source": [
    "def load_signals(base_path, sample_ids):\n",
    "    psg_files = [os.path.join(base_path, sample_id, 'PSG', sample_id) for sample_id in sample_ids]\n",
    "\n",
    "    signal_data = {}\n",
    "\n",
    "    for psg_file in tqdm(psg_files, desc='Loading signals'):\n",
    "        record = wfdb.rdrecord(psg_file)\n",
    "        signal = np.transpose(record.p_signal)\n",
    "\n",
    "        sort_index = np.argsort(record.sig_name)\n",
    "        sorted_sig_name = np.array(record.sig_name)[sort_index]\n",
    "        sorted_signal = signal[sort_index]\n",
    "\n",
    "        signal_data[record.record_name] = {signal_name: signal_data for signal_name, signal_data in zip(sorted_sig_name, sorted_signal)}\n",
    "\n",
    "    return signal_data\n",
    "\n",
    "def load_analysis_and_yaml_files(base_path, sample_ids, analysis_data_files=ANALYSIS_DATA_FILES, yaml_data_files=YAML_DATA_FILES):\n",
    "\n",
    "    analysis_data = {}\n",
    "    yaml_data = {}\n",
    "    logging.info(f'Loading {len(yaml_data_files)} yaml files and {len(analysis_data_files)} analysis files.')\n",
    "    for sample_id in tqdm(sample_ids, desc='Loading analysis and yaml files'):\n",
    "        analysis_data[sample_id] = {}\n",
    "        yaml_data[sample_id] = {}\n",
    "\n",
    "        for analysis_data_file in analysis_data_files:\n",
    "            path = os.path.join(base_path, sample_id, 'PSG', 'Analysedaten', analysis_data_file)\n",
    "            try:\n",
    "                file_as_list, _, _ = read_event_file_as_list(path)\n",
    "                analysis_data[sample_id][analysis_data_file] = file_as_list\n",
    "            except FileNotFoundError:\n",
    "                print(f\"Warning: File {analysis_data_file} from sample {sample_id} not found. Leaving it empty.\")\n",
    "                analysis_data[sample_id][analysis_data_file] = None\n",
    "\n",
    "        for yaml_data_file in yaml_data_files:\n",
    "            path = os.path.join(base_path, sample_id, 'YAML', yaml_data_file)\n",
    "            try:\n",
    "                data = yml_import(path)\n",
    "                yaml_data[sample_id][yaml_data_file] = data\n",
    "            except FileNotFoundError:\n",
    "                print(f\"Warning: File {yaml_data_file} from sample {sample_id} not found. Leaving it empty.\")\n",
    "                yaml_data[sample_id][yaml_data_file] = None\n",
    "\n",
    "    return analysis_data, yaml_data\n",
    "\n",
    "\n",
    "\n",
    "def get_labels():\n",
    "    label_array=[]\n",
    "    \n",
    "    for patient, patient_labels in analysis_data.items():\n",
    "        \n",
    "        label_array = label_array + [x[1] for x in patient_labels[\"Schlafprofil.txt\"]]\n",
    "    \n",
    "    return label_array\n",
    "\n"
   ],
   "id": "8f6ce12945116541",
   "outputs": [],
   "execution_count": 27
  },
  {
   "metadata": {
    "ExecuteTime": {
     "end_time": "2024-12-19T23:55:32.855194Z",
     "start_time": "2024-12-19T23:55:24.373712Z"
    }
   },
   "cell_type": "code",
   "source": [
    "dataset = Dataset(jsonld=\"croissant.json\")\n",
    "\n",
    "base_path = dataset.metadata.url\n",
    "print(f\"Base path: {base_path}\")\n",
    "directory = os.getcwd()\n",
    "base_path = os.path.join(directory, base_path)\n",
    "    \n",
    "sample_ids = os.listdir(base_path)\n",
    "analysis_data_files = ANALYSIS_DATA_FILES\n",
    "yaml_data_files = YAML_DATA_FILES\n",
    "\n",
    "signals = load_signals(base_path, sample_ids)\n",
    "logging.info(f'Loaded {len(signals)} signals.')\n",
    "\n",
    "analysis_data, yaml_data = load_analysis_and_yaml_files(base_path, sample_ids, analysis_data_files, yaml_data_files)\n",
    "logging.info(f'Loaded analysis data for {len(analysis_data)} samples.')\n",
    "logging.info(f'Loaded YAML data for {len(yaml_data)} samples.')\n",
    "\n",
    "# Optional: Get the question mapping\n",
    "yaml_data_mapped = get_question_mapping(yaml_data)"
   ],
   "id": "f123e827125b4b63",
   "outputs": [
    {
     "name": "stderr",
     "output_type": "stream",
     "text": [
      "WARNING:absl:Found the following 1 warning(s) during the validation:\n",
      "  -  [Metadata(Comprehensive Polysomnography (CPS) Dataset: A Resource for Sleep-Related Arousal Research)] Property \"https://schema.org/datePublished\" is recommended, but does not exist.\n"
     ]
    },
    {
     "name": "stdout",
     "output_type": "stream",
     "text": [
      "Base path: ./data\n"
     ]
    },
    {
     "name": "stderr",
     "output_type": "stream",
     "text": [
      "Loading signals: 100%|██████████| 1/1 [00:08<00:00,  8.32s/it]\n",
      "Loading analysis and yaml files: 100%|██████████| 1/1 [00:00<00:00, 63.84it/s]\n"
     ]
    }
   ],
   "execution_count": 28
  },
  {
   "cell_type": "markdown",
   "id": "9b45fa15-624b-4faf-9241-837ef753003e",
   "metadata": {},
   "source": [
    "# Data Understanding"
   ]
  },
  {
   "metadata": {},
   "cell_type": "markdown",
   "source": "# Baseline Model",
   "id": "f67f904274530f83"
  },
  {
   "metadata": {},
   "cell_type": "markdown",
   "source": "## Get Labels",
   "id": "f9203bbf8d4903fe"
  },
  {
   "metadata": {
    "ExecuteTime": {
     "end_time": "2024-12-19T23:55:32.916373Z",
     "start_time": "2024-12-19T23:55:32.909330Z"
    }
   },
   "cell_type": "code",
   "source": [
    "df_label = pd.DataFrame()\n",
    "\n",
    "df_label[\"Schlafprofil_label\"] = get_labels()\n",
    "df_label.head(5)\n",
    "df_label.shape\n",
    "#Passt das eventuell wenn wir von den labels die A intervalle wegsteichen?"
   ],
   "id": "9a1496864e5f2e08",
   "outputs": [
    {
     "data": {
      "text/plain": [
       "(883, 1)"
      ]
     },
     "execution_count": 29,
     "metadata": {},
     "output_type": "execute_result"
    }
   ],
   "execution_count": 29
  },
  {
   "metadata": {},
   "cell_type": "markdown",
   "source": "## Data Formatting",
   "id": "86613f0b0a00f9d2"
  },
  {
   "metadata": {
    "ExecuteTime": {
     "end_time": "2024-12-19T23:55:38.064457Z",
     "start_time": "2024-12-19T23:55:38.043585Z"
    }
   },
   "cell_type": "code",
   "source": [
    "features =[\"C3:A2\"]\n",
    "\n",
    "# Die Größe der Blöcke \n",
    "time_interval_block_size = 7680\n",
    "\n",
    "def create_feature_vektor(viewed_features, block_size):\n",
    "    df_main = pd.DataFrame()\n",
    "    \n",
    "    for patient, patient_data in signals.items():\n",
    "        df_patient = pd.DataFrame()\n",
    "        for feature in viewed_features:\n",
    "            \n",
    "            reshaped_array = [patient_data[feature][i:i+time_interval_block_size] for i in range(0, len(patient_data[feature]), time_interval_block_size)]\n",
    "    \n",
    "            df = pd.DataFrame({\n",
    "                feature: reshaped_array\n",
    "            }) \n",
    "            #if add_metadata:\n",
    "                #df[f'{feature}_Min_Wert'] = df.min(axis=1)\n",
    "                #df[f'{feature}_Max_Wert'] = df.max(axis=1)\n",
    "                #df[f'{feature}_Mean_Wert'] = df.mean(axis=1)\n",
    "                #df[f'{feature}_Median'] = df.median(axis=1)\n",
    "                #df[f'{feature}_Std_Wert'] = df.std(axis=1)\n",
    "                #df[f'{feature}_Amplitude'] = df.max(axis=1) - df.min(axis=1)\n",
    "    \n",
    "            # Überprüfen, ob das Feature schon existiert\n",
    "            if any(col.startswith(feature) for col in df_patient.columns):\n",
    "                # Vertikales Kombinieren (neue Zeilen)\n",
    "                df_patient = pd.concat([df_patient, df], axis=0, ignore_index=True)\n",
    "            else:\n",
    "                # Horizontales Kombinieren (neue Spalten)\n",
    "                if df_patient.empty:\n",
    "                    df_patient = df  # Erste Daten: einfach zuweisen\n",
    "                else:\n",
    "                    df_patient = pd.concat([df_patient.reset_index(drop=True),\n",
    "                                            df.reset_index(drop=True)], axis=1)\n",
    "    \n",
    "        df_main = pd.concat([df_main, df_patient], axis=0, ignore_index=True)\n",
    "    \n",
    "    return df_main \n",
    "\n",
    "\n",
    "df_main = create_feature_vektor(features, time_interval_block_size)\n",
    "\n",
    "print(\"Anzahl an Datensätzen: \" + str(len(df_main)))\n",
    "df_main = pd.concat([df_main, df_label],axis=1)\n",
    "print(\"Anzahl an Labels: \" + str(len(df_label)))\n",
    "print(df_main.shape)\n",
    "df_main.head(10)\n",
    "\n",
    "#df_main.tail(10)"
   ],
   "id": "82a936d583d460c3",
   "outputs": [
    {
     "name": "stdout",
     "output_type": "stream",
     "text": [
      "Anzahl an Datensätzen: 883\n",
      "Anzahl an Labels: 883\n",
      "(883, 2)\n"
     ]
    },
    {
     "data": {
      "text/plain": [
       "                                               C3:A2 Schlafprofil_label\n",
       "0  [1.2207122528867856e-08, -8.470078775865103e-0...                  A\n",
       "1  [4.675364341412463e-06, 7.386895963903432e-07,...               Wach\n",
       "2  [2.52689391142996e-06, 6.315405128380489e-06, ...               Wach\n",
       "3  [-8.508430712348273e-06, -9.811602752513631e-0...               Wach\n",
       "4  [-5.680018306390691e-05, -5.70258523143649e-05...               Wach\n",
       "5  [1.746852840790365e-05, 1.2252098538810706e-05...               Wach\n",
       "6  [3.210498139151665e-06, 2.3875085647247393e-06...               Wach\n",
       "7  [-6.554055102076978e-05, -6.86688339137184e-05...               Wach\n",
       "8  [-2.2937361846384074e-05, -2.131579310965574e-...               Wach\n",
       "9  [-1.7517357281312346e-05, -2.0546738257645517e...               Wach"
      ],
      "text/html": [
       "<div>\n",
       "<style scoped>\n",
       "    .dataframe tbody tr th:only-of-type {\n",
       "        vertical-align: middle;\n",
       "    }\n",
       "\n",
       "    .dataframe tbody tr th {\n",
       "        vertical-align: top;\n",
       "    }\n",
       "\n",
       "    .dataframe thead th {\n",
       "        text-align: right;\n",
       "    }\n",
       "</style>\n",
       "<table border=\"1\" class=\"dataframe\">\n",
       "  <thead>\n",
       "    <tr style=\"text-align: right;\">\n",
       "      <th></th>\n",
       "      <th>C3:A2</th>\n",
       "      <th>Schlafprofil_label</th>\n",
       "    </tr>\n",
       "  </thead>\n",
       "  <tbody>\n",
       "    <tr>\n",
       "      <th>0</th>\n",
       "      <td>[1.2207122528867856e-08, -8.470078775865103e-0...</td>\n",
       "      <td>A</td>\n",
       "    </tr>\n",
       "    <tr>\n",
       "      <th>1</th>\n",
       "      <td>[4.675364341412463e-06, 7.386895963903432e-07,...</td>\n",
       "      <td>Wach</td>\n",
       "    </tr>\n",
       "    <tr>\n",
       "      <th>2</th>\n",
       "      <td>[2.52689391142996e-06, 6.315405128380489e-06, ...</td>\n",
       "      <td>Wach</td>\n",
       "    </tr>\n",
       "    <tr>\n",
       "      <th>3</th>\n",
       "      <td>[-8.508430712348273e-06, -9.811602752513631e-0...</td>\n",
       "      <td>Wach</td>\n",
       "    </tr>\n",
       "    <tr>\n",
       "      <th>4</th>\n",
       "      <td>[-5.680018306390691e-05, -5.70258523143649e-05...</td>\n",
       "      <td>Wach</td>\n",
       "    </tr>\n",
       "    <tr>\n",
       "      <th>5</th>\n",
       "      <td>[1.746852840790365e-05, 1.2252098538810706e-05...</td>\n",
       "      <td>Wach</td>\n",
       "    </tr>\n",
       "    <tr>\n",
       "      <th>6</th>\n",
       "      <td>[3.210498139151665e-06, 2.3875085647247393e-06...</td>\n",
       "      <td>Wach</td>\n",
       "    </tr>\n",
       "    <tr>\n",
       "      <th>7</th>\n",
       "      <td>[-6.554055102076978e-05, -6.86688339137184e-05...</td>\n",
       "      <td>Wach</td>\n",
       "    </tr>\n",
       "    <tr>\n",
       "      <th>8</th>\n",
       "      <td>[-2.2937361846384074e-05, -2.131579310965574e-...</td>\n",
       "      <td>Wach</td>\n",
       "    </tr>\n",
       "    <tr>\n",
       "      <th>9</th>\n",
       "      <td>[-1.7517357281312346e-05, -2.0546738257645517e...</td>\n",
       "      <td>Wach</td>\n",
       "    </tr>\n",
       "  </tbody>\n",
       "</table>\n",
       "</div>"
      ]
     },
     "execution_count": 30,
     "metadata": {},
     "output_type": "execute_result"
    }
   ],
   "execution_count": 30
  },
  {
   "metadata": {},
   "cell_type": "markdown",
   "source": "",
   "id": "6a3aad2a3d8a6202"
  },
  {
   "metadata": {},
   "cell_type": "code",
   "source": [
    "df_main = df_main.dropna()\n",
    "print(\"Anzahl an Datenstätzen nach Reinigung: \" + str(len(df_main)))\n",
    "df_main.iloc[:, list(range(5)) + list(range(-10, 0))].tail(2)\n"
   ],
   "id": "6d0e80d306c799d6",
   "outputs": [],
   "execution_count": null
  },
  {
   "metadata": {},
   "cell_type": "markdown",
   "source": "## Train-Test Split",
   "id": "1bc7236ea81e840a"
  },
  {
   "metadata": {},
   "cell_type": "code",
   "source": [
    "X = df_main.drop(columns=['Schlafprofil_label'])  # Alle Spalten außer 'Label' sind Features\n",
    "y = df_main['Schlafprofil_label'] \n",
    "\n",
    "data_train, data_test, label_train, label_test = train_test_split(X, y, test_size=0.2, random_state=42)"
   ],
   "id": "b9034cb30f2e9220",
   "outputs": [],
   "execution_count": null
  },
  {
   "metadata": {},
   "cell_type": "markdown",
   "source": "## Building Model",
   "id": "7c40dcbbd1061522"
  },
  {
   "metadata": {},
   "cell_type": "code",
   "source": [
    "from sklearn.ensemble import RandomForestClassifier\n",
    "\n",
    "#clf = DecisionTreeClassifier()\n",
    "clf = RandomForestClassifier()\n",
    "\n",
    "clf.fit(data_train, label_train)\n"
   ],
   "id": "73fa1d2b55d0e03e",
   "outputs": [],
   "execution_count": null
  },
  {
   "metadata": {},
   "cell_type": "markdown",
   "source": "## Evaluate Model",
   "id": "dc2791f7b3f75769"
  },
  {
   "metadata": {},
   "cell_type": "code",
   "source": [
    "data_pred = clf.predict(data_test)\n",
    "# Modell evaluieren\n",
    "accuracy = accuracy_score(label_test, data_pred)\n",
    "print(f\"Genauigkeit des Modells: {accuracy:.2f}\")\n",
    "\n",
    "print(\"Eindeutige Werte in label_test:\", np.unique(label_test))\n",
    "print(\"Eindeutige Werte in data_pred:\", np.unique(data_pred))\n",
    "\n",
    "report = classification_report(label_test, data_pred)\n",
    "print(report)\n",
    "\n",
    "cm = confusion_matrix(label_test, data_pred)\n",
    "disp = ConfusionMatrixDisplay(confusion_matrix=cm, display_labels=np.unique(label_test))\n",
    "disp.plot(cmap=plt.cm.Blues, values_format='d')"
   ],
   "id": "3a8b5a5b3b871925",
   "outputs": [],
   "execution_count": null
  },
  {
   "metadata": {},
   "cell_type": "markdown",
   "source": "",
   "id": "2a965919bdac5127"
  }
 ],
 "metadata": {
  "kernelspec": {
   "display_name": "Python 3 (ipykernel)",
   "language": "python",
   "name": "python3"
  },
  "language_info": {
   "codemirror_mode": {
    "name": "ipython",
    "version": 3
   },
   "file_extension": ".py",
   "mimetype": "text/x-python",
   "name": "python",
   "nbconvert_exporter": "python",
   "pygments_lexer": "ipython3",
   "version": "3.11.0"
  }
 },
 "nbformat": 4,
 "nbformat_minor": 5
}
